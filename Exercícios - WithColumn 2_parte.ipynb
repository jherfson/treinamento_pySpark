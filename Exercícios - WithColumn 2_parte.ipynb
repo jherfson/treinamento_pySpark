{
 "cells": [
  {
   "cell_type": "markdown",
   "metadata": {},
   "source": [
    "# Exercícios - WithColumn 2/2"
   ]
  },
  {
   "cell_type": "markdown",
   "metadata": {},
   "source": [
    "## 1. Criar um dataframe para ler o arquivo no HDFS /user/<nome/data/juros_selic/juros_selic"
   ]
  },
  {
   "cell_type": "code",
   "execution_count": 17,
   "metadata": {},
   "outputs": [],
   "source": [
    "from pyspark.sql.functions import *\n",
    "from pyspark.sql.types import *"
   ]
  },
  {
   "cell_type": "code",
   "execution_count": 5,
   "metadata": {},
   "outputs": [],
   "source": [
    "juros = spark.read.csv('/user/jherfson/data/exercises-data/juros_selic/juros_selic', sep=\";\", header=\"true\")"
   ]
  },
  {
   "cell_type": "code",
   "execution_count": 6,
   "metadata": {},
   "outputs": [
    {
     "name": "stdout",
     "output_type": "stream",
     "text": [
      "+----------+-----+\n",
      "|      data|valor|\n",
      "+----------+-----+\n",
      "|01/06/1986| 1,27|\n",
      "|01/07/1986| 1,95|\n",
      "|01/08/1986| 2,57|\n",
      "+----------+-----+\n",
      "only showing top 3 rows\n",
      "\n"
     ]
    }
   ],
   "source": [
    "juros.show(3)"
   ]
  },
  {
   "attachments": {
    "image.png": {
     "image/png": "[encoded data removed]"
    }
   },
   "cell_type": "markdown",
   "metadata": {},
   "source": [
    "## 2. Agrupar todas as datas pelo ano em ordem decrescente e salvar a quantidade de meses ocorridos, o valor médio, mínimo e máximo do campo valor com a seguinte estrutura:\n",
    "![image.png](attachment:image.png)"
   ]
  },
  {
   "cell_type": "code",
   "execution_count": 18,
   "metadata": {},
   "outputs": [
    {
     "name": "stdout",
     "output_type": "stream",
     "text": [
      "root\n",
      " |-- data: string (nullable = true)\n",
      " |-- valor: float (nullable = true)\n",
      " |-- ano: string (nullable = true)\n",
      "\n"
     ]
    }
   ],
   "source": [
    "juros_ano = juros.withColumn(\"ano\", split(col(\"data\"), \"/\").getItem(2))\n",
    "juros_valor = juros_ano.withColumn(\"valor\", regexp_replace(col(\"valor\"),\"\\,\",\"\\.\").cast(FloatType()))\n",
    "\n",
    "juros_valor.printSchema()"
   ]
  },
  {
   "cell_type": "code",
   "execution_count": 29,
   "metadata": {},
   "outputs": [],
   "source": [
    "juros_relatorio = juros_valor.groupBy(\"ano\").agg(count(\"ano\").alias(\"Meses\"), format_number(avg(\"valor\"), 2).alias(\"valor medio\"), min(\"valor\").alias(\"valor minimo\"), max(\"valor\").alias(\"valor máximo\")).sort(desc(\"ano\"))"
   ]
  },
  {
   "cell_type": "markdown",
   "metadata": {},
   "source": [
    "## 3. Salvar no hdfs:///user/<nome>/relatorioAnual com compressão zlib e formato orc"
   ]
  },
  {
   "cell_type": "code",
   "execution_count": 31,
   "metadata": {},
   "outputs": [],
   "source": [
    "juros_relatorio.write.orc(\"/user/jherfson/relatorio_anual\", compression=\"zlib\")"
   ]
  },
  {
   "cell_type": "code",
   "execution_count": 34,
   "metadata": {},
   "outputs": [
    {
     "name": "stdout",
     "output_type": "stream",
     "text": [
      "Found 35 items\n",
      "-rw-r--r--   2 root supergroup          0 2022-04-18 15:01 /user/jherfson/relatorio_anual/_SUCCESS\n",
      "-rw-r--r--   2 root supergroup        585 2022-04-18 15:01 /user/jherfson/relatorio_anual/part-00000-01529a0c-093e-4de3-a3bb-9994e4b8e421-c000.zlib.orc\n",
      "-rw-r--r--   2 root supergroup        585 2022-04-18 15:01 /user/jherfson/relatorio_anual/part-00001-01529a0c-093e-4de3-a3bb-9994e4b8e421-c000.zlib.orc\n",
      "-rw-r--r--   2 root supergroup        588 2022-04-18 15:01 /user/jherfson/relatorio_anual/part-00002-01529a0c-093e-4de3-a3bb-9994e4b8e421-c000.zlib.orc\n",
      "-rw-r--r--   2 root supergroup        575 2022-04-18 15:01 /user/jherfson/relatorio_anual/part-00003-01529a0c-093e-4de3-a3bb-9994e4b8e421-c000.zlib.orc\n",
      "-rw-r--r--   2 root supergroup        586 2022-04-18 15:01 /user/jherfson/relatorio_anual/part-00004-01529a0c-093e-4de3-a3bb-9994e4b8e421-c000.zlib.orc\n",
      "-rw-r--r--   2 root supergroup        584 2022-04-18 15:01 /user/jherfson/relatorio_anual/part-00005-01529a0c-093e-4de3-a3bb-9994e4b8e421-c000.zlib.orc\n",
      "-rw-r--r--   2 root supergroup        582 2022-04-18 15:01 /user/jherfson/relatorio_anual/part-00006-01529a0c-093e-4de3-a3bb-9994e4b8e421-c000.zlib.orc\n",
      "-rw-r--r--   2 root supergroup        585 2022-04-18 15:01 /user/jherfson/relatorio_anual/part-00007-01529a0c-093e-4de3-a3bb-9994e4b8e421-c000.zlib.orc\n",
      "-rw-r--r--   2 root supergroup        588 2022-04-18 15:01 /user/jherfson/relatorio_anual/part-00008-01529a0c-093e-4de3-a3bb-9994e4b8e421-c000.zlib.orc\n",
      "-rw-r--r--   2 root supergroup        588 2022-04-18 15:01 /user/jherfson/relatorio_anual/part-00009-01529a0c-093e-4de3-a3bb-9994e4b8e421-c000.zlib.orc\n",
      "-rw-r--r--   2 root supergroup        589 2022-04-18 15:01 /user/jherfson/relatorio_anual/part-00010-01529a0c-093e-4de3-a3bb-9994e4b8e421-c000.zlib.orc\n",
      "-rw-r--r--   2 root supergroup        586 2022-04-18 15:01 /user/jherfson/relatorio_anual/part-00011-01529a0c-093e-4de3-a3bb-9994e4b8e421-c000.zlib.orc\n",
      "-rw-r--r--   2 root supergroup        589 2022-04-18 15:01 /user/jherfson/relatorio_anual/part-00012-01529a0c-093e-4de3-a3bb-9994e4b8e421-c000.zlib.orc\n",
      "-rw-r--r--   2 root supergroup        588 2022-04-18 15:01 /user/jherfson/relatorio_anual/part-00013-01529a0c-093e-4de3-a3bb-9994e4b8e421-c000.zlib.orc\n",
      "-rw-r--r--   2 root supergroup        585 2022-04-18 15:01 /user/jherfson/relatorio_anual/part-00014-01529a0c-093e-4de3-a3bb-9994e4b8e421-c000.zlib.orc\n",
      "-rw-r--r--   2 root supergroup        585 2022-04-18 15:01 /user/jherfson/relatorio_anual/part-00015-01529a0c-093e-4de3-a3bb-9994e4b8e421-c000.zlib.orc\n",
      "-rw-r--r--   2 root supergroup        587 2022-04-18 15:01 /user/jherfson/relatorio_anual/part-00016-01529a0c-093e-4de3-a3bb-9994e4b8e421-c000.zlib.orc\n",
      "-rw-r--r--   2 root supergroup        575 2022-04-18 15:01 /user/jherfson/relatorio_anual/part-00017-01529a0c-093e-4de3-a3bb-9994e4b8e421-c000.zlib.orc\n",
      "-rw-r--r--   2 root supergroup        589 2022-04-18 15:01 /user/jherfson/relatorio_anual/part-00018-01529a0c-093e-4de3-a3bb-9994e4b8e421-c000.zlib.orc\n",
      "-rw-r--r--   2 root supergroup        583 2022-04-18 15:01 /user/jherfson/relatorio_anual/part-00019-01529a0c-093e-4de3-a3bb-9994e4b8e421-c000.zlib.orc\n",
      "-rw-r--r--   2 root supergroup        583 2022-04-18 15:01 /user/jherfson/relatorio_anual/part-00020-01529a0c-093e-4de3-a3bb-9994e4b8e421-c000.zlib.orc\n",
      "-rw-r--r--   2 root supergroup        585 2022-04-18 15:01 /user/jherfson/relatorio_anual/part-00021-01529a0c-093e-4de3-a3bb-9994e4b8e421-c000.zlib.orc\n",
      "-rw-r--r--   2 root supergroup        583 2022-04-18 15:01 /user/jherfson/relatorio_anual/part-00022-01529a0c-093e-4de3-a3bb-9994e4b8e421-c000.zlib.orc\n",
      "-rw-r--r--   2 root supergroup        588 2022-04-18 15:01 /user/jherfson/relatorio_anual/part-00023-01529a0c-093e-4de3-a3bb-9994e4b8e421-c000.zlib.orc\n",
      "-rw-r--r--   2 root supergroup        584 2022-04-18 15:01 /user/jherfson/relatorio_anual/part-00024-01529a0c-093e-4de3-a3bb-9994e4b8e421-c000.zlib.orc\n",
      "-rw-r--r--   2 root supergroup        608 2022-04-18 15:01 /user/jherfson/relatorio_anual/part-00025-01529a0c-093e-4de3-a3bb-9994e4b8e421-c000.zlib.orc\n",
      "-rw-r--r--   2 root supergroup        605 2022-04-18 15:01 /user/jherfson/relatorio_anual/part-00026-01529a0c-093e-4de3-a3bb-9994e4b8e421-c000.zlib.orc\n",
      "-rw-r--r--   2 root supergroup        599 2022-04-18 15:01 /user/jherfson/relatorio_anual/part-00027-01529a0c-093e-4de3-a3bb-9994e4b8e421-c000.zlib.orc\n",
      "-rw-r--r--   2 root supergroup        608 2022-04-18 15:01 /user/jherfson/relatorio_anual/part-00028-01529a0c-093e-4de3-a3bb-9994e4b8e421-c000.zlib.orc\n",
      "-rw-r--r--   2 root supergroup        608 2022-04-18 15:01 /user/jherfson/relatorio_anual/part-00029-01529a0c-093e-4de3-a3bb-9994e4b8e421-c000.zlib.orc\n",
      "-rw-r--r--   2 root supergroup        605 2022-04-18 15:01 /user/jherfson/relatorio_anual/part-00030-01529a0c-093e-4de3-a3bb-9994e4b8e421-c000.zlib.orc\n",
      "-rw-r--r--   2 root supergroup        608 2022-04-18 15:01 /user/jherfson/relatorio_anual/part-00031-01529a0c-093e-4de3-a3bb-9994e4b8e421-c000.zlib.orc\n",
      "-rw-r--r--   2 root supergroup        609 2022-04-18 15:01 /user/jherfson/relatorio_anual/part-00032-01529a0c-093e-4de3-a3bb-9994e4b8e421-c000.zlib.orc\n",
      "-rw-r--r--   2 root supergroup        585 2022-04-18 15:01 /user/jherfson/relatorio_anual/part-00033-01529a0c-093e-4de3-a3bb-9994e4b8e421-c000.zlib.orc\n"
     ]
    }
   ],
   "source": [
    "!hdfs dfs -ls /user/jherfson/relatorio_anual"
   ]
  },
  {
   "cell_type": "code",
   "execution_count": null,
   "metadata": {},
   "outputs": [],
   "source": []
  }
 ],
 "metadata": {
  "kernelspec": {
   "display_name": "PySpark",
   "language": "python",
   "name": "pyspark"
  },
  "language_info": {
   "codemirror_mode": {
    "name": "ipython",
    "version": 3
   },
   "file_extension": ".py",
   "mimetype": "text/x-python",
   "name": "python",
   "nbconvert_exporter": "python",
   "pygments_lexer": "ipython3",
   "version": "3.6.10"
  }
 },
 "nbformat": 4,
 "nbformat_minor": 2
}
